{
 "cells": [
  {
   "cell_type": "code",
   "execution_count": 1,
   "id": "ed4557b9",
   "metadata": {},
   "outputs": [],
   "source": [
    "import numpy as np\n",
    "import pandas as pd\n",
    "from sklearn.model_selection import train_test_split, cross_val_score, GridSearchCV\n",
    "from sklearn.ensemble import RandomForestClassifier\n",
    "from sklearn.metrics import precision_score, recall_score, accuracy_score\n"
   ]
  },
  {
   "cell_type": "code",
   "execution_count": 2,
   "id": "9bf2669f",
   "metadata": {},
   "outputs": [],
   "source": [
    "data=pd.read_csv('Data_2.csv')"
   ]
  },
  {
   "cell_type": "code",
   "execution_count": 3,
   "id": "fb6fa0f0",
   "metadata": {},
   "outputs": [],
   "source": [
    "imp_features=pd.read_csv('Imp_Variables.csv')"
   ]
  },
  {
   "cell_type": "code",
   "execution_count": 4,
   "id": "a121ef48",
   "metadata": {
    "scrolled": false
   },
   "outputs": [
    {
     "data": {
      "text/plain": [
       "array(['Loan_by_Assests', 'Loan_by_Income', 'Loan_by_Total_income',\n",
       "       'Loan_Per_Year_by_income_annum', 'Loan_by_Assets_Total_income',\n",
       "       'Loan_by_RealEstateAssets_BankAssets_Total_income',\n",
       "       'Luxury_assets_by_Total_assets', 'Liquidity_Ratio',\n",
       "       'Loan_by_RealEstateAssets_Total_income',\n",
       "       'Loan_by_Income_perDependent', 'commercial_assets_value',\n",
       "       'residential_assets_value',\n",
       "       'Loan_by_TotalIncomeAsset_per_dependent', 'Real_Estate_Assests',\n",
       "       'Loan_Per_Year_by_Income_perDependent', 'Total_Assets',\n",
       "       'luxury_assets_value', 'Total_Income_Loan_Duration',\n",
       "       'Income_perDependent', 'bank_asset_value', 'Loan_Per_Year',\n",
       "       'loan_amount', 'income_annum'], dtype=object)"
      ]
     },
     "execution_count": 4,
     "metadata": {},
     "output_type": "execute_result"
    }
   ],
   "source": [
    "imp_features['Feature'].unique()"
   ]
  },
  {
   "cell_type": "code",
   "execution_count": 5,
   "id": "d78bf317",
   "metadata": {
    "scrolled": true
   },
   "outputs": [],
   "source": [
    "features=['Loan_by_Assests', 'Loan_by_Income', 'Loan_by_Total_income',\n",
    "       'Loan_Per_Year_by_income_annum', 'Loan_by_Assets_Total_income',\n",
    "       'Loan_by_RealEstateAssets_BankAssets_Total_income',\n",
    "       'Luxury_assets_by_Total_assets', 'Liquidity_Ratio',\n",
    "       'Loan_by_RealEstateAssets_Total_income',\n",
    "       'Loan_by_Income_perDependent', 'commercial_assets_value',\n",
    "       'residential_assets_value',\n",
    "       'Loan_by_TotalIncomeAsset_per_dependent', 'Real_Estate_Assests',\n",
    "       'Loan_Per_Year_by_Income_perDependent', 'Total_Assets',\n",
    "       'luxury_assets_value', 'Total_Income_Loan_Duration',\n",
    "       'Income_perDependent', 'bank_asset_value', 'Loan_Per_Year',\n",
    "       'loan_amount', 'income_annum','cibil_score']# Added Cibil Score"
   ]
  },
  {
   "cell_type": "code",
   "execution_count": 6,
   "id": "0604589c",
   "metadata": {},
   "outputs": [
    {
     "name": "stdout",
     "output_type": "stream",
     "text": [
      "Best Parameters: {'max_depth': None, 'min_samples_leaf': 1, 'min_samples_split': 2, 'n_estimators': 100}\n",
      "Cross-Validation Mean Accuracy: 0.9967789165446559\n",
      "Precision: 1.0\n",
      "Recall: 1.0\n",
      "Accuracy: 1.0\n"
     ]
    }
   ],
   "source": [
    "X = data[features] # Features\n",
    "y = data['loan_status'] # Target variable\n",
    "\n",
    "X_train, X_test, y_train, y_test = train_test_split(X, y, test_size=0.2, random_state=42)\n",
    "\n",
    "rf_classifier = RandomForestClassifier(random_state=42)\n",
    "\n",
    "# Define parameter grid for hyperparameter tuning\n",
    "param_grid = {\n",
    "    'n_estimators': [100, 200, 300],\n",
    "    'max_depth': [None, 10, 20],\n",
    "    'min_samples_split': [2, 5, 10],\n",
    "    'min_samples_leaf': [1, 2, 4]\n",
    "}\n",
    "\n",
    "grid_search = GridSearchCV(estimator=rf_classifier, param_grid=param_grid, cv=5, scoring='accuracy')\n",
    "grid_search.fit(X_train, y_train)\n",
    "\n",
    "best_params = grid_search.best_params_\n",
    "\n",
    "best_rf_classifier = RandomForestClassifier(**best_params, random_state=42)\n",
    "\n",
    "cv_scores = cross_val_score(best_rf_classifier, X_train, y_train, cv=5)\n",
    "best_rf_classifier.fit(X_train, y_train)\n",
    "\n",
    "y_pred = best_rf_classifier.predict(X_test)\n",
    "\n",
    "# Calculate evaluation metrics\n",
    "precision = precision_score(y_test, y_pred)\n",
    "recall = recall_score(y_test, y_pred)\n",
    "accuracy = accuracy_score(y_test, y_pred)\n",
    "\n",
    "print(\"Best Parameters:\", best_params)\n",
    "print(\"Cross-Validation Mean Accuracy:\", np.mean(cv_scores))\n",
    "print(\"Precision:\", precision)\n",
    "print(\"Recall:\", recall)\n",
    "print(\"Accuracy:\", accuracy)\n"
   ]
  },
  {
   "cell_type": "code",
   "execution_count": 22,
   "id": "99327a44",
   "metadata": {},
   "outputs": [],
   "source": [
    "######### ACROSS ALL SLICES OF DATA"
   ]
  },
  {
   "cell_type": "code",
   "execution_count": 41,
   "id": "63036f52",
   "metadata": {},
   "outputs": [
    {
     "name": "stdout",
     "output_type": "stream",
     "text": [
      "Precision: 1.0\n",
      "Recall: 1.0\n",
      "Accuracy: 1.0\n"
     ]
    }
   ],
   "source": [
    "data_temp=data[data.cibil_range==0]\n",
    "\n",
    "X = data_temp[features] \n",
    "y = data_temp['loan_status']\n",
    "\n",
    "y_pred = best_rf_classifier.predict(X)\n",
    "\n",
    "precision = precision_score(y, y_pred)\n",
    "recall = recall_score(y, y_pred)\n",
    "accuracy = accuracy_score(y, y_pred)\n",
    "\n",
    "\n",
    "print(\"Precision:\", precision)\n",
    "print(\"Recall:\", recall)\n",
    "print(\"Accuracy:\", accuracy)\n"
   ]
  },
  {
   "cell_type": "code",
   "execution_count": 42,
   "id": "dcbdf37b",
   "metadata": {},
   "outputs": [
    {
     "name": "stdout",
     "output_type": "stream",
     "text": [
      "Precision: 1.0\n",
      "Recall: 1.0\n",
      "Accuracy: 1.0\n"
     ]
    }
   ],
   "source": [
    "data_temp=data[data.cibil_range==1]\n",
    "\n",
    "X = data_temp[features] \n",
    "y = data_temp['loan_status']\n",
    "\n",
    "y_pred = best_rf_classifier.predict(X)\n",
    "\n",
    "precision = precision_score(y, y_pred)\n",
    "recall = recall_score(y, y_pred)\n",
    "accuracy = accuracy_score(y, y_pred)\n",
    "\n",
    "\n",
    "print(\"Precision:\", precision)\n",
    "print(\"Recall:\", recall)\n",
    "print(\"Accuracy:\", accuracy)\n"
   ]
  },
  {
   "cell_type": "code",
   "execution_count": 43,
   "id": "a023749a",
   "metadata": {},
   "outputs": [
    {
     "name": "stdout",
     "output_type": "stream",
     "text": [
      "Precision: 1.0\n",
      "Recall: 1.0\n",
      "Accuracy: 1.0\n"
     ]
    }
   ],
   "source": [
    "data_temp=data[data.cibil_range==2]\n",
    "\n",
    "X = data_temp[features] \n",
    "y = data_temp['loan_status']\n",
    "\n",
    "y_pred = best_rf_classifier.predict(X)\n",
    "\n",
    "precision = precision_score(y, y_pred)\n",
    "recall = recall_score(y, y_pred)\n",
    "accuracy = accuracy_score(y, y_pred)\n",
    "\n",
    "\n",
    "print(\"Precision:\", precision)\n",
    "print(\"Recall:\", recall)\n",
    "print(\"Accuracy:\", accuracy)\n"
   ]
  },
  {
   "cell_type": "code",
   "execution_count": 44,
   "id": "d1105b87",
   "metadata": {},
   "outputs": [
    {
     "name": "stdout",
     "output_type": "stream",
     "text": [
      "Precision: 1.0\n",
      "Recall: 1.0\n",
      "Accuracy: 1.0\n"
     ]
    }
   ],
   "source": [
    "data_temp=data[data.cibil_range==3]\n",
    "\n",
    "X = data_temp[features] \n",
    "y = data_temp['loan_status']\n",
    "\n",
    "y_pred = best_rf_classifier.predict(X)\n",
    "\n",
    "precision = precision_score(y, y_pred)\n",
    "recall = recall_score(y, y_pred)\n",
    "accuracy = accuracy_score(y, y_pred)\n",
    "\n",
    "\n",
    "print(\"Precision:\", precision)\n",
    "print(\"Recall:\", recall)\n",
    "print(\"Accuracy:\", accuracy)\n"
   ]
  },
  {
   "cell_type": "code",
   "execution_count": 45,
   "id": "909f9087",
   "metadata": {},
   "outputs": [
    {
     "name": "stdout",
     "output_type": "stream",
     "text": [
      "Precision: 1.0\n",
      "Recall: 1.0\n",
      "Accuracy: 1.0\n"
     ]
    }
   ],
   "source": [
    "data_temp=data[data.cibil_range==4]\n",
    "\n",
    "X = data_temp[features] \n",
    "y = data_temp['loan_status']\n",
    "\n",
    "y_pred = best_rf_classifier.predict(X)\n",
    "\n",
    "precision = precision_score(y, y_pred)\n",
    "recall = recall_score(y, y_pred)\n",
    "accuracy = accuracy_score(y, y_pred)\n",
    "\n",
    "\n",
    "print(\"Precision:\", precision)\n",
    "print(\"Recall:\", recall)\n",
    "print(\"Accuracy:\", accuracy)\n"
   ]
  },
  {
   "cell_type": "code",
   "execution_count": 51,
   "id": "2b477325",
   "metadata": {},
   "outputs": [],
   "source": [
    "# # Select a tree from the forest\n",
    "# tree_index = 0  # Change this to select a different tree\n",
    "# selected_tree = best_rf_classifier.estimators_[tree_index]\n",
    "\n",
    "# # Visualize the selected tree\n",
    "# plt.figure(figsize=(12, 8))\n",
    "# tree.plot_tree(selected_tree,  filled=True)\n",
    "# plt.show()"
   ]
  },
  {
   "cell_type": "code",
   "execution_count": 52,
   "id": "87bb3268",
   "metadata": {},
   "outputs": [],
   "source": [
    "# import matplotlib.pyplot as plt\n",
    "# from sklearn import tree\n"
   ]
  },
  {
   "cell_type": "code",
   "execution_count": 53,
   "id": "b26ede55",
   "metadata": {},
   "outputs": [],
   "source": [
    "import pickle\n"
   ]
  },
  {
   "cell_type": "code",
   "execution_count": 54,
   "id": "2f2cba95",
   "metadata": {},
   "outputs": [],
   "source": [
    "model_filepath = 'best_model.pkl'\n",
    "\n",
    "# Save the model to the specified file path using pickle\n",
    "with open(model_filepath, 'wb') as f:\n",
    "    pickle.dump(best_rf_classifier, f)\n"
   ]
  },
  {
   "cell_type": "code",
   "execution_count": null,
   "id": "3ac1f42a",
   "metadata": {},
   "outputs": [],
   "source": []
  }
 ],
 "metadata": {
  "kernelspec": {
   "display_name": "Python 3",
   "language": "python",
   "name": "python3"
  },
  "language_info": {
   "codemirror_mode": {
    "name": "ipython",
    "version": 3
   },
   "file_extension": ".py",
   "mimetype": "text/x-python",
   "name": "python",
   "nbconvert_exporter": "python",
   "pygments_lexer": "ipython3",
   "version": "3.7.16"
  }
 },
 "nbformat": 4,
 "nbformat_minor": 5
}
