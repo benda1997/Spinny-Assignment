{
 "cells": [
  {
   "cell_type": "code",
   "execution_count": 1,
   "id": "fc712b0a",
   "metadata": {},
   "outputs": [],
   "source": [
    "import numpy as np\n",
    "import pandas as pd\n",
    "from sklearn.model_selection import train_test_split, cross_val_score, GridSearchCV\n",
    "from sklearn.linear_model import LogisticRegression\n",
    "from sklearn.metrics import precision_score, recall_score, accuracy_score\n",
    "import pickle\n"
   ]
  },
  {
   "cell_type": "code",
   "execution_count": 2,
   "id": "76714e06",
   "metadata": {},
   "outputs": [],
   "source": [
    "model_filepath = 'best_model.pkl'\n",
    "\n",
    "with open(model_filepath, 'rb') as f:\n",
    "    loaded_model = pickle.load(f)"
   ]
  },
  {
   "cell_type": "code",
   "execution_count": 3,
   "id": "9b60da2c",
   "metadata": {},
   "outputs": [],
   "source": [
    "def LOAN_APPROVER_MODEL(sample):\n",
    "    sample_data = pd.DataFrame(sample,index=[0])\n",
    "    # Calculating features\n",
    "    sample_data['Loan_by_Income'] = sample_data['loan_amount'] / sample_data['income_annum']\n",
    "    sample_data['Income_perDependent'] = sample_data['income_annum'] / (sample_data['no_of_dependents'] + 1)\n",
    "    sample_data['Loan_by_Income_perDependent'] = sample_data['loan_amount'] / sample_data['Income_perDependent']\n",
    "\n",
    "    sample_data['Loan_Per_Year'] = sample_data['loan_amount'] / sample_data['loan_term']\n",
    "    sample_data['Loan_Per_Year_by_income_annum'] = sample_data['Loan_Per_Year'] / sample_data['income_annum']\n",
    "    sample_data['Loan_Per_Year_by_Income_perDependent'] = sample_data['Loan_Per_Year'] / sample_data['Loan_by_Income_perDependent']\n",
    "\n",
    "    sample_data['Total_Assets'] = (\n",
    "        sample_data['residential_assets_value'] +\n",
    "        sample_data['commercial_assets_value'] +\n",
    "        sample_data['luxury_assets_value'] +\n",
    "        sample_data['bank_asset_value']\n",
    "    )\n",
    "    sample_data['Real_Estate_Assets'] = sample_data['residential_assets_value'] + sample_data['commercial_assets_value']\n",
    "    sample_data['Loan_by_Assests'] = sample_data['loan_amount'] / sample_data['Total_Assets']\n",
    "    sample_data['Total_Income_Loan_Duration'] = sample_data['income_annum'] * sample_data['loan_term']\n",
    "    sample_data['Loan_by_Total_income'] = sample_data['loan_amount'] / sample_data['Total_Income_Loan_Duration']\n",
    "    sample_data['Loan_by_Assets_Total_income'] = sample_data['loan_amount'] / (sample_data['Total_Income_Loan_Duration'] + sample_data['Total_Assets'])\n",
    "    sample_data['Loan_by_RealEstateAssets_Total_income'] = sample_data['loan_amount'] / (sample_data['Total_Income_Loan_Duration'] + sample_data['Real_Estate_Assets'])\n",
    "    sample_data['Loan_by_RealEstateAssets_BankAssets_Total_income'] = sample_data['loan_amount'] / (sample_data['Total_Income_Loan_Duration'] + sample_data['Real_Estate_Assets'] + sample_data['bank_asset_value'])\n",
    "    sample_data['Loan_by_TotalIncomeAsset_per_dependent'] = (\n",
    "        sample_data['loan_amount'] * (sample_data['no_of_dependents'] + 1) /\n",
    "        (sample_data['Total_Assets'] + sample_data['Total_Income_Loan_Duration'])\n",
    "    )\n",
    "\n",
    "    sample_data['Luxury_assets_by_Total_assets'] = sample_data['luxury_assets_value'] / sample_data['Total_Assets']\n",
    "    sample_data['Liquidity_Ratio'] = sample_data['bank_asset_value'] / sample_data['Total_Assets']\n",
    "    \n",
    "    features=['Loan_by_Assests', 'Loan_by_Income', 'Loan_by_Total_income',\n",
    "       'Loan_Per_Year_by_income_annum', 'Loan_by_Assets_Total_income',\n",
    "       'Loan_by_RealEstateAssets_BankAssets_Total_income',\n",
    "       'Luxury_assets_by_Total_assets', 'Liquidity_Ratio',\n",
    "       'Loan_by_RealEstateAssets_Total_income',\n",
    "       'Loan_by_Income_perDependent', 'commercial_assets_value',\n",
    "       'residential_assets_value',\n",
    "       'Loan_by_TotalIncomeAsset_per_dependent', 'Real_Estate_Assets',\n",
    "       'Loan_Per_Year_by_Income_perDependent', 'Total_Assets',\n",
    "       'luxury_assets_value', 'Total_Income_Loan_Duration',\n",
    "       'Income_perDependent', 'bank_asset_value', 'Loan_Per_Year',\n",
    "       'loan_amount', 'income_annum','cibil_score']\n",
    "    \n",
    "    if loaded_model.predict(sample_data[features])[0]==1:\n",
    "        return 'Approved'\n",
    "    else:\n",
    "        return 'Rejected'\n",
    "    \n",
    "    "
   ]
  },
  {
   "cell_type": "code",
   "execution_count": 4,
   "id": "aef597c1",
   "metadata": {},
   "outputs": [],
   "source": [
    "# Sample input data\n",
    "sample_input = {\n",
    "    'loan_id': 1,\n",
    "    'no_of_dependents': 2,\n",
    "    'education': '12th',\n",
    "    'self_employed': 'No',\n",
    "    'employment_type': 'Salaried',\n",
    "    'income_annum': 9600000,\n",
    "    'loan_amount': 29900000,\n",
    "    'loan_term': 12,\n",
    "    'cibil_score': 778,\n",
    "    'residential_assets_value': 2400000,\n",
    "    'commercial_assets_value': 17600000,\n",
    "    'luxury_assets_value': 22700000,\n",
    "    'bank_asset_value': 8000000\n",
    "}\n",
    "\n"
   ]
  },
  {
   "cell_type": "code",
   "execution_count": 5,
   "id": "101e20ba",
   "metadata": {},
   "outputs": [
    {
     "name": "stderr",
     "output_type": "stream",
     "text": [
      "/home/aditya_bendapudi/.conda/envs/aditya_bendapudi/lib/python3.7/site-packages/sklearn/base.py:493: FutureWarning: The feature names should match those that were passed during fit. Starting version 1.2, an error will be raised.\n",
      "Feature names unseen at fit time:\n",
      "- Real_Estate_Assets\n",
      "Feature names seen at fit time, yet now missing:\n",
      "- Real_Estate_Assests\n",
      "\n",
      "  warnings.warn(message, FutureWarning)\n"
     ]
    },
    {
     "data": {
      "text/plain": [
       "'Approved'"
      ]
     },
     "execution_count": 5,
     "metadata": {},
     "output_type": "execute_result"
    }
   ],
   "source": [
    "LOAN_APPROVER_MODEL(sample_input)"
   ]
  },
  {
   "cell_type": "code",
   "execution_count": null,
   "id": "19820b6b",
   "metadata": {},
   "outputs": [],
   "source": []
  }
 ],
 "metadata": {
  "kernelspec": {
   "display_name": "Python 3",
   "language": "python",
   "name": "python3"
  },
  "language_info": {
   "codemirror_mode": {
    "name": "ipython",
    "version": 3
   },
   "file_extension": ".py",
   "mimetype": "text/x-python",
   "name": "python",
   "nbconvert_exporter": "python",
   "pygments_lexer": "ipython3",
   "version": "3.7.16"
  }
 },
 "nbformat": 4,
 "nbformat_minor": 5
}
