{
 "cells": [
  {
   "cell_type": "code",
   "execution_count": 1,
   "id": "c392ad29",
   "metadata": {},
   "outputs": [],
   "source": [
    "import pandas as pd\n",
    "import matplotlib.pyplot as plt\n",
    "\n",
    "# Load the dataset\n",
    "data = pd.read_csv(\"loan_approval_data.csv\")\n",
    "\n"
   ]
  },
  {
   "cell_type": "code",
   "execution_count": 2,
   "id": "bde1ae2a",
   "metadata": {},
   "outputs": [
    {
     "data": {
      "text/plain": [
       "Approved    62.215976\n",
       "Rejected    37.784024\n",
       "Name: loan_status, dtype: float64"
      ]
     },
     "execution_count": 2,
     "metadata": {},
     "output_type": "execute_result"
    }
   ],
   "source": [
    "#Loan Status\n",
    "data['loan_status'].value_counts(normalize=True).mul(100)"
   ]
  },
  {
   "cell_type": "code",
   "execution_count": 3,
   "id": "b1f8043e",
   "metadata": {},
   "outputs": [],
   "source": [
    "data['loan_status'] = data['loan_status'].replace({'Approved': 1, 'Rejected': 0})"
   ]
  },
  {
   "cell_type": "code",
   "execution_count": 4,
   "id": "bcd645aa",
   "metadata": {},
   "outputs": [
    {
     "data": {
      "text/plain": [
       "0.622159756383228"
      ]
     },
     "execution_count": 4,
     "metadata": {},
     "output_type": "execute_result"
    }
   ],
   "source": [
    "data['loan_status'].mean()"
   ]
  },
  {
   "cell_type": "code",
   "execution_count": 5,
   "id": "aecae8df",
   "metadata": {},
   "outputs": [
    {
     "data": {
      "text/plain": [
       "4    17.615367\n",
       "3    17.029749\n",
       "0    16.678379\n",
       "2    16.584680\n",
       "1    16.327009\n",
       "5    15.764816\n",
       "Name: no_of_dependents, dtype: float64"
      ]
     },
     "execution_count": 5,
     "metadata": {},
     "output_type": "execute_result"
    }
   ],
   "source": [
    "#No Of Dependents\n",
    "\n",
    "data['no_of_dependents'].value_counts(normalize=True).mul(100)"
   ]
  },
  {
   "cell_type": "code",
   "execution_count": 6,
   "id": "270015ba",
   "metadata": {},
   "outputs": [
    {
     "data": {
      "text/plain": [
       "no_of_dependents\n",
       "0    0.641854\n",
       "1    0.616930\n",
       "2    0.622881\n",
       "3    0.628611\n",
       "4    0.618351\n",
       "5    0.603269\n",
       "Name: loan_status, dtype: float64"
      ]
     },
     "execution_count": 6,
     "metadata": {},
     "output_type": "execute_result"
    }
   ],
   "source": [
    "data.groupby(['no_of_dependents'])['loan_status'].mean()"
   ]
  },
  {
   "cell_type": "code",
   "execution_count": 7,
   "id": "04e0c79c",
   "metadata": {},
   "outputs": [
    {
     "data": {
      "text/plain": [
       "10th        26.376201\n",
       "8th         25.111267\n",
       "12th        24.877020\n",
       "Graduate    23.635512\n",
       "Name: education, dtype: float64"
      ]
     },
     "execution_count": 7,
     "metadata": {},
     "output_type": "execute_result"
    }
   ],
   "source": [
    "data['education'].value_counts(normalize=True).mul(100)"
   ]
  },
  {
   "cell_type": "code",
   "execution_count": 8,
   "id": "10b2b569",
   "metadata": {},
   "outputs": [
    {
     "data": {
      "text/html": [
       "<div>\n",
       "<style scoped>\n",
       "    .dataframe tbody tr th:only-of-type {\n",
       "        vertical-align: middle;\n",
       "    }\n",
       "\n",
       "    .dataframe tbody tr th {\n",
       "        vertical-align: top;\n",
       "    }\n",
       "\n",
       "    .dataframe thead th {\n",
       "        text-align: right;\n",
       "    }\n",
       "</style>\n",
       "<table border=\"1\" class=\"dataframe\">\n",
       "  <thead>\n",
       "    <tr style=\"text-align: right;\">\n",
       "      <th></th>\n",
       "      <th>education</th>\n",
       "      <th>loan_status</th>\n",
       "    </tr>\n",
       "  </thead>\n",
       "  <tbody>\n",
       "    <tr>\n",
       "      <th>0</th>\n",
       "      <td>10th</td>\n",
       "      <td>0.605684</td>\n",
       "    </tr>\n",
       "    <tr>\n",
       "      <th>1</th>\n",
       "      <td>12th</td>\n",
       "      <td>0.623352</td>\n",
       "    </tr>\n",
       "    <tr>\n",
       "      <th>2</th>\n",
       "      <td>8th</td>\n",
       "      <td>0.634328</td>\n",
       "    </tr>\n",
       "    <tr>\n",
       "      <th>3</th>\n",
       "      <td>Graduate</td>\n",
       "      <td>0.626363</td>\n",
       "    </tr>\n",
       "  </tbody>\n",
       "</table>\n",
       "</div>"
      ],
      "text/plain": [
       "  education  loan_status\n",
       "0      10th     0.605684\n",
       "1      12th     0.623352\n",
       "2       8th     0.634328\n",
       "3  Graduate     0.626363"
      ]
     },
     "execution_count": 8,
     "metadata": {},
     "output_type": "execute_result"
    }
   ],
   "source": [
    "data.groupby(['education'],as_index=False)['loan_status'].mean()"
   ]
  },
  {
   "cell_type": "code",
   "execution_count": 9,
   "id": "40d0890f",
   "metadata": {},
   "outputs": [],
   "source": [
    "# data = pd.get_dummies(data, columns=['education'])\n"
   ]
  },
  {
   "cell_type": "code",
   "execution_count": 10,
   "id": "612e1eb9",
   "metadata": {},
   "outputs": [],
   "source": [
    "education_rankings = {\n",
    "    '10th': 1,\n",
    "    '8th': 2,\n",
    "    '12th': 3,\n",
    "    'Graduate': 4\n",
    "}\n",
    "\n",
    "data['education_ranking'] = data['education'].map(education_rankings)\n",
    "data.drop(columns=['education'], inplace=True)\n"
   ]
  },
  {
   "cell_type": "code",
   "execution_count": 11,
   "id": "49bc890d",
   "metadata": {},
   "outputs": [
    {
     "data": {
      "text/plain": [
       "Yes    50.784727\n",
       "No     49.215273\n",
       "Name: self_employed, dtype: float64"
      ]
     },
     "execution_count": 11,
     "metadata": {},
     "output_type": "execute_result"
    }
   ],
   "source": [
    "data['self_employed'].value_counts(normalize=True).mul(100)"
   ]
  },
  {
   "cell_type": "code",
   "execution_count": 12,
   "id": "1b64821e",
   "metadata": {},
   "outputs": [
    {
     "data": {
      "text/html": [
       "<div>\n",
       "<style scoped>\n",
       "    .dataframe tbody tr th:only-of-type {\n",
       "        vertical-align: middle;\n",
       "    }\n",
       "\n",
       "    .dataframe tbody tr th {\n",
       "        vertical-align: top;\n",
       "    }\n",
       "\n",
       "    .dataframe thead th {\n",
       "        text-align: right;\n",
       "    }\n",
       "</style>\n",
       "<table border=\"1\" class=\"dataframe\">\n",
       "  <thead>\n",
       "    <tr style=\"text-align: right;\">\n",
       "      <th></th>\n",
       "      <th>self_employed</th>\n",
       "      <th>loan_status</th>\n",
       "    </tr>\n",
       "  </thead>\n",
       "  <tbody>\n",
       "    <tr>\n",
       "      <th>0</th>\n",
       "      <td>No</td>\n",
       "      <td>0.628748</td>\n",
       "    </tr>\n",
       "    <tr>\n",
       "      <th>1</th>\n",
       "      <td>Yes</td>\n",
       "      <td>0.615775</td>\n",
       "    </tr>\n",
       "  </tbody>\n",
       "</table>\n",
       "</div>"
      ],
      "text/plain": [
       "  self_employed  loan_status\n",
       "0            No     0.628748\n",
       "1           Yes     0.615775"
      ]
     },
     "execution_count": 12,
     "metadata": {},
     "output_type": "execute_result"
    }
   ],
   "source": [
    "data.groupby(['self_employed'],as_index=False)['loan_status'].mean()"
   ]
  },
  {
   "cell_type": "code",
   "execution_count": 13,
   "id": "5c35a2a8",
   "metadata": {},
   "outputs": [],
   "source": [
    "data['self_employed'] = data['self_employed'].replace({'Yes': 1, 'No': 0})"
   ]
  },
  {
   "cell_type": "code",
   "execution_count": 14,
   "id": "36a0ca6c",
   "metadata": {},
   "outputs": [
    {
     "data": {
      "text/plain": [
       "Salaried      49.215273\n",
       "Business      38.299368\n",
       "Freelancer    12.485360\n",
       "Name: employment_type, dtype: float64"
      ]
     },
     "execution_count": 14,
     "metadata": {},
     "output_type": "execute_result"
    }
   ],
   "source": [
    "data['employment_type'].value_counts(normalize=True).mul(100)"
   ]
  },
  {
   "cell_type": "code",
   "execution_count": 15,
   "id": "b7985a77",
   "metadata": {},
   "outputs": [
    {
     "data": {
      "text/html": [
       "<div>\n",
       "<style scoped>\n",
       "    .dataframe tbody tr th:only-of-type {\n",
       "        vertical-align: middle;\n",
       "    }\n",
       "\n",
       "    .dataframe tbody tr th {\n",
       "        vertical-align: top;\n",
       "    }\n",
       "\n",
       "    .dataframe thead th {\n",
       "        text-align: right;\n",
       "    }\n",
       "</style>\n",
       "<table border=\"1\" class=\"dataframe\">\n",
       "  <thead>\n",
       "    <tr style=\"text-align: right;\">\n",
       "      <th></th>\n",
       "      <th>employment_type</th>\n",
       "      <th>loan_status</th>\n",
       "    </tr>\n",
       "  </thead>\n",
       "  <tbody>\n",
       "    <tr>\n",
       "      <th>0</th>\n",
       "      <td>Business</td>\n",
       "      <td>0.609786</td>\n",
       "    </tr>\n",
       "    <tr>\n",
       "      <th>1</th>\n",
       "      <td>Freelancer</td>\n",
       "      <td>0.634146</td>\n",
       "    </tr>\n",
       "    <tr>\n",
       "      <th>2</th>\n",
       "      <td>Salaried</td>\n",
       "      <td>0.628748</td>\n",
       "    </tr>\n",
       "  </tbody>\n",
       "</table>\n",
       "</div>"
      ],
      "text/plain": [
       "  employment_type  loan_status\n",
       "0        Business     0.609786\n",
       "1      Freelancer     0.634146\n",
       "2        Salaried     0.628748"
      ]
     },
     "execution_count": 15,
     "metadata": {},
     "output_type": "execute_result"
    }
   ],
   "source": [
    "data.groupby(['employment_type'],as_index=False)['loan_status'].mean()"
   ]
  },
  {
   "cell_type": "code",
   "execution_count": 16,
   "id": "e3d098eb",
   "metadata": {},
   "outputs": [],
   "source": [
    "data = pd.get_dummies(data, columns=['employment_type'])\n"
   ]
  },
  {
   "cell_type": "code",
   "execution_count": 17,
   "id": "54c719e2",
   "metadata": {},
   "outputs": [
    {
     "data": {
      "text/plain": [
       "loan_id                       int64\n",
       "no_of_dependents              int64\n",
       "self_employed                 int64\n",
       "income_annum                  int64\n",
       "loan_amount                   int64\n",
       "loan_term                     int64\n",
       "cibil_score                   int64\n",
       "residential_assets_value      int64\n",
       "commercial_assets_value       int64\n",
       "luxury_assets_value           int64\n",
       "bank_asset_value              int64\n",
       "loan_status                   int64\n",
       "education_ranking             int64\n",
       "employment_type_Business      uint8\n",
       "employment_type_Freelancer    uint8\n",
       "employment_type_Salaried      uint8\n",
       "dtype: object"
      ]
     },
     "execution_count": 17,
     "metadata": {},
     "output_type": "execute_result"
    }
   ],
   "source": [
    "data.dtypes"
   ]
  },
  {
   "cell_type": "code",
   "execution_count": 18,
   "id": "12b9b54f",
   "metadata": {},
   "outputs": [
    {
     "name": "stdout",
     "output_type": "stream",
     "text": [
      "Columns with null values:\n",
      "Series([], dtype: int64)\n"
     ]
    }
   ],
   "source": [
    "null_values = data.isnull().sum()\n",
    "\n",
    "# Display columns with null values\n",
    "print(\"Columns with null values:\")\n",
    "print(null_values[null_values > 0])"
   ]
  },
  {
   "cell_type": "code",
   "execution_count": 19,
   "id": "8a17c9ee",
   "metadata": {},
   "outputs": [
    {
     "data": {
      "text/html": [
       "<div>\n",
       "<style scoped>\n",
       "    .dataframe tbody tr th:only-of-type {\n",
       "        vertical-align: middle;\n",
       "    }\n",
       "\n",
       "    .dataframe tbody tr th {\n",
       "        vertical-align: top;\n",
       "    }\n",
       "\n",
       "    .dataframe thead th {\n",
       "        text-align: right;\n",
       "    }\n",
       "</style>\n",
       "<table border=\"1\" class=\"dataframe\">\n",
       "  <thead>\n",
       "    <tr style=\"text-align: right;\">\n",
       "      <th></th>\n",
       "      <th>loan_id</th>\n",
       "      <th>no_of_dependents</th>\n",
       "      <th>self_employed</th>\n",
       "      <th>income_annum</th>\n",
       "      <th>loan_amount</th>\n",
       "      <th>loan_term</th>\n",
       "      <th>cibil_score</th>\n",
       "      <th>residential_assets_value</th>\n",
       "      <th>commercial_assets_value</th>\n",
       "      <th>luxury_assets_value</th>\n",
       "      <th>bank_asset_value</th>\n",
       "      <th>loan_status</th>\n",
       "      <th>education_ranking</th>\n",
       "      <th>employment_type_Business</th>\n",
       "      <th>employment_type_Freelancer</th>\n",
       "      <th>employment_type_Salaried</th>\n",
       "    </tr>\n",
       "  </thead>\n",
       "  <tbody>\n",
       "    <tr>\n",
       "      <th>0</th>\n",
       "      <td>1</td>\n",
       "      <td>2</td>\n",
       "      <td>0</td>\n",
       "      <td>9600000</td>\n",
       "      <td>29900000</td>\n",
       "      <td>12</td>\n",
       "      <td>778</td>\n",
       "      <td>2400000</td>\n",
       "      <td>17600000</td>\n",
       "      <td>22700000</td>\n",
       "      <td>8000000</td>\n",
       "      <td>1</td>\n",
       "      <td>3</td>\n",
       "      <td>0</td>\n",
       "      <td>0</td>\n",
       "      <td>1</td>\n",
       "    </tr>\n",
       "    <tr>\n",
       "      <th>1</th>\n",
       "      <td>2</td>\n",
       "      <td>0</td>\n",
       "      <td>0</td>\n",
       "      <td>4100000</td>\n",
       "      <td>12200000</td>\n",
       "      <td>8</td>\n",
       "      <td>417</td>\n",
       "      <td>2700000</td>\n",
       "      <td>2200000</td>\n",
       "      <td>8800000</td>\n",
       "      <td>3300000</td>\n",
       "      <td>0</td>\n",
       "      <td>3</td>\n",
       "      <td>0</td>\n",
       "      <td>0</td>\n",
       "      <td>1</td>\n",
       "    </tr>\n",
       "    <tr>\n",
       "      <th>2</th>\n",
       "      <td>3</td>\n",
       "      <td>3</td>\n",
       "      <td>0</td>\n",
       "      <td>9100000</td>\n",
       "      <td>29700000</td>\n",
       "      <td>20</td>\n",
       "      <td>506</td>\n",
       "      <td>7100000</td>\n",
       "      <td>4500000</td>\n",
       "      <td>33300000</td>\n",
       "      <td>12800000</td>\n",
       "      <td>0</td>\n",
       "      <td>2</td>\n",
       "      <td>0</td>\n",
       "      <td>0</td>\n",
       "      <td>1</td>\n",
       "    </tr>\n",
       "    <tr>\n",
       "      <th>3</th>\n",
       "      <td>4</td>\n",
       "      <td>3</td>\n",
       "      <td>0</td>\n",
       "      <td>8200000</td>\n",
       "      <td>30700000</td>\n",
       "      <td>8</td>\n",
       "      <td>467</td>\n",
       "      <td>18200000</td>\n",
       "      <td>3300000</td>\n",
       "      <td>23300000</td>\n",
       "      <td>7900000</td>\n",
       "      <td>0</td>\n",
       "      <td>2</td>\n",
       "      <td>0</td>\n",
       "      <td>0</td>\n",
       "      <td>1</td>\n",
       "    </tr>\n",
       "    <tr>\n",
       "      <th>4</th>\n",
       "      <td>5</td>\n",
       "      <td>5</td>\n",
       "      <td>0</td>\n",
       "      <td>9800000</td>\n",
       "      <td>24200000</td>\n",
       "      <td>20</td>\n",
       "      <td>382</td>\n",
       "      <td>12400000</td>\n",
       "      <td>8200000</td>\n",
       "      <td>29400000</td>\n",
       "      <td>5000000</td>\n",
       "      <td>0</td>\n",
       "      <td>4</td>\n",
       "      <td>0</td>\n",
       "      <td>0</td>\n",
       "      <td>1</td>\n",
       "    </tr>\n",
       "  </tbody>\n",
       "</table>\n",
       "</div>"
      ],
      "text/plain": [
       "   loan_id  no_of_dependents  self_employed  income_annum  loan_amount  \\\n",
       "0        1                 2              0       9600000     29900000   \n",
       "1        2                 0              0       4100000     12200000   \n",
       "2        3                 3              0       9100000     29700000   \n",
       "3        4                 3              0       8200000     30700000   \n",
       "4        5                 5              0       9800000     24200000   \n",
       "\n",
       "   loan_term  cibil_score  residential_assets_value  commercial_assets_value  \\\n",
       "0         12          778                   2400000                 17600000   \n",
       "1          8          417                   2700000                  2200000   \n",
       "2         20          506                   7100000                  4500000   \n",
       "3          8          467                  18200000                  3300000   \n",
       "4         20          382                  12400000                  8200000   \n",
       "\n",
       "   luxury_assets_value  bank_asset_value  loan_status  education_ranking  \\\n",
       "0             22700000           8000000            1                  3   \n",
       "1              8800000           3300000            0                  3   \n",
       "2             33300000          12800000            0                  2   \n",
       "3             23300000           7900000            0                  2   \n",
       "4             29400000           5000000            0                  4   \n",
       "\n",
       "   employment_type_Business  employment_type_Freelancer  \\\n",
       "0                         0                           0   \n",
       "1                         0                           0   \n",
       "2                         0                           0   \n",
       "3                         0                           0   \n",
       "4                         0                           0   \n",
       "\n",
       "   employment_type_Salaried  \n",
       "0                         1  \n",
       "1                         1  \n",
       "2                         1  \n",
       "3                         1  \n",
       "4                         1  "
      ]
     },
     "execution_count": 19,
     "metadata": {},
     "output_type": "execute_result"
    }
   ],
   "source": [
    "data.head()"
   ]
  },
  {
   "cell_type": "code",
   "execution_count": 20,
   "id": "9e658bfc",
   "metadata": {
    "scrolled": true
   },
   "outputs": [
    {
     "data": {
      "text/html": [
       "<div>\n",
       "<style scoped>\n",
       "    .dataframe tbody tr th:only-of-type {\n",
       "        vertical-align: middle;\n",
       "    }\n",
       "\n",
       "    .dataframe tbody tr th {\n",
       "        vertical-align: top;\n",
       "    }\n",
       "\n",
       "    .dataframe thead th {\n",
       "        text-align: right;\n",
       "    }\n",
       "</style>\n",
       "<table border=\"1\" class=\"dataframe\">\n",
       "  <thead>\n",
       "    <tr style=\"text-align: right;\">\n",
       "      <th></th>\n",
       "      <th>loan_id</th>\n",
       "      <th>no_of_dependents</th>\n",
       "      <th>self_employed</th>\n",
       "      <th>income_annum</th>\n",
       "      <th>loan_amount</th>\n",
       "      <th>loan_term</th>\n",
       "      <th>cibil_score</th>\n",
       "      <th>residential_assets_value</th>\n",
       "      <th>commercial_assets_value</th>\n",
       "      <th>luxury_assets_value</th>\n",
       "      <th>bank_asset_value</th>\n",
       "      <th>loan_status</th>\n",
       "      <th>education_ranking</th>\n",
       "      <th>employment_type_Business</th>\n",
       "      <th>employment_type_Freelancer</th>\n",
       "      <th>employment_type_Salaried</th>\n",
       "    </tr>\n",
       "  </thead>\n",
       "  <tbody>\n",
       "    <tr>\n",
       "      <th>loan_id</th>\n",
       "      <td>1.000000</td>\n",
       "      <td>0.005326</td>\n",
       "      <td>-0.028332</td>\n",
       "      <td>0.012592</td>\n",
       "      <td>0.008170</td>\n",
       "      <td>0.009809</td>\n",
       "      <td>0.016323</td>\n",
       "      <td>0.020936</td>\n",
       "      <td>0.018595</td>\n",
       "      <td>-0.000862</td>\n",
       "      <td>0.010765</td>\n",
       "      <td>0.017685</td>\n",
       "      <td>-0.013999</td>\n",
       "      <td>-0.024301</td>\n",
       "      <td>-0.007113</td>\n",
       "      <td>0.028332</td>\n",
       "    </tr>\n",
       "    <tr>\n",
       "      <th>no_of_dependents</th>\n",
       "      <td>0.005326</td>\n",
       "      <td>1.000000</td>\n",
       "      <td>0.017627</td>\n",
       "      <td>0.007266</td>\n",
       "      <td>-0.003366</td>\n",
       "      <td>-0.020111</td>\n",
       "      <td>-0.009998</td>\n",
       "      <td>0.007376</td>\n",
       "      <td>-0.001531</td>\n",
       "      <td>0.002817</td>\n",
       "      <td>0.011163</td>\n",
       "      <td>-0.018114</td>\n",
       "      <td>-0.023303</td>\n",
       "      <td>0.019780</td>\n",
       "      <td>-0.002429</td>\n",
       "      <td>-0.017627</td>\n",
       "    </tr>\n",
       "    <tr>\n",
       "      <th>self_employed</th>\n",
       "      <td>-0.028332</td>\n",
       "      <td>0.017627</td>\n",
       "      <td>1.000000</td>\n",
       "      <td>-0.005740</td>\n",
       "      <td>-0.008136</td>\n",
       "      <td>0.002121</td>\n",
       "      <td>-0.008485</td>\n",
       "      <td>-0.018196</td>\n",
       "      <td>0.002669</td>\n",
       "      <td>0.000482</td>\n",
       "      <td>-0.003196</td>\n",
       "      <td>-0.013377</td>\n",
       "      <td>0.023343</td>\n",
       "      <td>0.775594</td>\n",
       "      <td>0.371829</td>\n",
       "      <td>-1.000000</td>\n",
       "    </tr>\n",
       "    <tr>\n",
       "      <th>income_annum</th>\n",
       "      <td>0.012592</td>\n",
       "      <td>0.007266</td>\n",
       "      <td>-0.005740</td>\n",
       "      <td>1.000000</td>\n",
       "      <td>0.927470</td>\n",
       "      <td>0.011488</td>\n",
       "      <td>-0.023034</td>\n",
       "      <td>0.636841</td>\n",
       "      <td>0.640328</td>\n",
       "      <td>0.929145</td>\n",
       "      <td>0.851093</td>\n",
       "      <td>-0.015189</td>\n",
       "      <td>0.002351</td>\n",
       "      <td>0.002461</td>\n",
       "      <td>-0.012300</td>\n",
       "      <td>0.005740</td>\n",
       "    </tr>\n",
       "    <tr>\n",
       "      <th>loan_amount</th>\n",
       "      <td>0.008170</td>\n",
       "      <td>-0.003366</td>\n",
       "      <td>-0.008136</td>\n",
       "      <td>0.927470</td>\n",
       "      <td>1.000000</td>\n",
       "      <td>0.008437</td>\n",
       "      <td>-0.017035</td>\n",
       "      <td>0.594596</td>\n",
       "      <td>0.603188</td>\n",
       "      <td>0.860914</td>\n",
       "      <td>0.788122</td>\n",
       "      <td>0.016150</td>\n",
       "      <td>-0.001508</td>\n",
       "      <td>0.000288</td>\n",
       "      <td>-0.012730</td>\n",
       "      <td>0.008136</td>\n",
       "    </tr>\n",
       "    <tr>\n",
       "      <th>loan_term</th>\n",
       "      <td>0.009809</td>\n",
       "      <td>-0.020111</td>\n",
       "      <td>0.002121</td>\n",
       "      <td>0.011488</td>\n",
       "      <td>0.008437</td>\n",
       "      <td>1.000000</td>\n",
       "      <td>0.007810</td>\n",
       "      <td>0.008016</td>\n",
       "      <td>-0.005478</td>\n",
       "      <td>0.012490</td>\n",
       "      <td>0.017177</td>\n",
       "      <td>-0.113036</td>\n",
       "      <td>0.016326</td>\n",
       "      <td>-0.007785</td>\n",
       "      <td>0.014656</td>\n",
       "      <td>-0.002121</td>\n",
       "    </tr>\n",
       "    <tr>\n",
       "      <th>cibil_score</th>\n",
       "      <td>0.016323</td>\n",
       "      <td>-0.009998</td>\n",
       "      <td>-0.008485</td>\n",
       "      <td>-0.023034</td>\n",
       "      <td>-0.017035</td>\n",
       "      <td>0.007810</td>\n",
       "      <td>1.000000</td>\n",
       "      <td>-0.019947</td>\n",
       "      <td>-0.003769</td>\n",
       "      <td>-0.028618</td>\n",
       "      <td>-0.015478</td>\n",
       "      <td>0.770518</td>\n",
       "      <td>0.013263</td>\n",
       "      <td>-0.018068</td>\n",
       "      <td>0.013737</td>\n",
       "      <td>0.008485</td>\n",
       "    </tr>\n",
       "    <tr>\n",
       "      <th>residential_assets_value</th>\n",
       "      <td>0.020936</td>\n",
       "      <td>0.007376</td>\n",
       "      <td>-0.018196</td>\n",
       "      <td>0.636841</td>\n",
       "      <td>0.594596</td>\n",
       "      <td>0.008016</td>\n",
       "      <td>-0.019947</td>\n",
       "      <td>1.000000</td>\n",
       "      <td>0.414786</td>\n",
       "      <td>0.590932</td>\n",
       "      <td>0.527418</td>\n",
       "      <td>-0.014367</td>\n",
       "      <td>0.004839</td>\n",
       "      <td>-0.011169</td>\n",
       "      <td>-0.011094</td>\n",
       "      <td>0.018196</td>\n",
       "    </tr>\n",
       "    <tr>\n",
       "      <th>commercial_assets_value</th>\n",
       "      <td>0.018595</td>\n",
       "      <td>-0.001531</td>\n",
       "      <td>0.002669</td>\n",
       "      <td>0.640328</td>\n",
       "      <td>0.603188</td>\n",
       "      <td>-0.005478</td>\n",
       "      <td>-0.003769</td>\n",
       "      <td>0.414786</td>\n",
       "      <td>1.000000</td>\n",
       "      <td>0.591128</td>\n",
       "      <td>0.548576</td>\n",
       "      <td>0.008246</td>\n",
       "      <td>0.004140</td>\n",
       "      <td>0.010321</td>\n",
       "      <td>-0.011141</td>\n",
       "      <td>-0.002669</td>\n",
       "    </tr>\n",
       "    <tr>\n",
       "      <th>luxury_assets_value</th>\n",
       "      <td>-0.000862</td>\n",
       "      <td>0.002817</td>\n",
       "      <td>0.000482</td>\n",
       "      <td>0.929145</td>\n",
       "      <td>0.860914</td>\n",
       "      <td>0.012490</td>\n",
       "      <td>-0.028618</td>\n",
       "      <td>0.590932</td>\n",
       "      <td>0.591128</td>\n",
       "      <td>1.000000</td>\n",
       "      <td>0.788517</td>\n",
       "      <td>-0.015465</td>\n",
       "      <td>0.000166</td>\n",
       "      <td>0.007702</td>\n",
       "      <td>-0.010597</td>\n",
       "      <td>-0.000482</td>\n",
       "    </tr>\n",
       "    <tr>\n",
       "      <th>bank_asset_value</th>\n",
       "      <td>0.010765</td>\n",
       "      <td>0.011163</td>\n",
       "      <td>-0.003196</td>\n",
       "      <td>0.851093</td>\n",
       "      <td>0.788122</td>\n",
       "      <td>0.017177</td>\n",
       "      <td>-0.015478</td>\n",
       "      <td>0.527418</td>\n",
       "      <td>0.548576</td>\n",
       "      <td>0.788517</td>\n",
       "      <td>1.000000</td>\n",
       "      <td>-0.006778</td>\n",
       "      <td>0.004860</td>\n",
       "      <td>-0.001274</td>\n",
       "      <td>-0.002961</td>\n",
       "      <td>0.003196</td>\n",
       "    </tr>\n",
       "    <tr>\n",
       "      <th>loan_status</th>\n",
       "      <td>0.017685</td>\n",
       "      <td>-0.018114</td>\n",
       "      <td>-0.013377</td>\n",
       "      <td>-0.015189</td>\n",
       "      <td>0.016150</td>\n",
       "      <td>-0.113036</td>\n",
       "      <td>0.770518</td>\n",
       "      <td>-0.014367</td>\n",
       "      <td>0.008246</td>\n",
       "      <td>-0.015465</td>\n",
       "      <td>-0.006778</td>\n",
       "      <td>1.000000</td>\n",
       "      <td>0.012237</td>\n",
       "      <td>-0.020107</td>\n",
       "      <td>0.009338</td>\n",
       "      <td>0.013377</td>\n",
       "    </tr>\n",
       "    <tr>\n",
       "      <th>education_ranking</th>\n",
       "      <td>-0.013999</td>\n",
       "      <td>-0.023303</td>\n",
       "      <td>0.023343</td>\n",
       "      <td>0.002351</td>\n",
       "      <td>-0.001508</td>\n",
       "      <td>0.016326</td>\n",
       "      <td>0.013263</td>\n",
       "      <td>0.004839</td>\n",
       "      <td>0.004140</td>\n",
       "      <td>0.000166</td>\n",
       "      <td>0.004860</td>\n",
       "      <td>0.012237</td>\n",
       "      <td>1.000000</td>\n",
       "      <td>-0.330511</td>\n",
       "      <td>0.521361</td>\n",
       "      <td>-0.023343</td>\n",
       "    </tr>\n",
       "    <tr>\n",
       "      <th>employment_type_Business</th>\n",
       "      <td>-0.024301</td>\n",
       "      <td>0.019780</td>\n",
       "      <td>0.775594</td>\n",
       "      <td>0.002461</td>\n",
       "      <td>0.000288</td>\n",
       "      <td>-0.007785</td>\n",
       "      <td>-0.018068</td>\n",
       "      <td>-0.011169</td>\n",
       "      <td>0.010321</td>\n",
       "      <td>0.007702</td>\n",
       "      <td>-0.001274</td>\n",
       "      <td>-0.020107</td>\n",
       "      <td>-0.330511</td>\n",
       "      <td>1.000000</td>\n",
       "      <td>-0.297585</td>\n",
       "      <td>-0.775594</td>\n",
       "    </tr>\n",
       "    <tr>\n",
       "      <th>employment_type_Freelancer</th>\n",
       "      <td>-0.007113</td>\n",
       "      <td>-0.002429</td>\n",
       "      <td>0.371829</td>\n",
       "      <td>-0.012300</td>\n",
       "      <td>-0.012730</td>\n",
       "      <td>0.014656</td>\n",
       "      <td>0.013737</td>\n",
       "      <td>-0.011094</td>\n",
       "      <td>-0.011141</td>\n",
       "      <td>-0.010597</td>\n",
       "      <td>-0.002961</td>\n",
       "      <td>0.009338</td>\n",
       "      <td>0.521361</td>\n",
       "      <td>-0.297585</td>\n",
       "      <td>1.000000</td>\n",
       "      <td>-0.371829</td>\n",
       "    </tr>\n",
       "    <tr>\n",
       "      <th>employment_type_Salaried</th>\n",
       "      <td>0.028332</td>\n",
       "      <td>-0.017627</td>\n",
       "      <td>-1.000000</td>\n",
       "      <td>0.005740</td>\n",
       "      <td>0.008136</td>\n",
       "      <td>-0.002121</td>\n",
       "      <td>0.008485</td>\n",
       "      <td>0.018196</td>\n",
       "      <td>-0.002669</td>\n",
       "      <td>-0.000482</td>\n",
       "      <td>0.003196</td>\n",
       "      <td>0.013377</td>\n",
       "      <td>-0.023343</td>\n",
       "      <td>-0.775594</td>\n",
       "      <td>-0.371829</td>\n",
       "      <td>1.000000</td>\n",
       "    </tr>\n",
       "  </tbody>\n",
       "</table>\n",
       "</div>"
      ],
      "text/plain": [
       "                             loan_id  no_of_dependents  self_employed  \\\n",
       "loan_id                     1.000000          0.005326      -0.028332   \n",
       "no_of_dependents            0.005326          1.000000       0.017627   \n",
       "self_employed              -0.028332          0.017627       1.000000   \n",
       "income_annum                0.012592          0.007266      -0.005740   \n",
       "loan_amount                 0.008170         -0.003366      -0.008136   \n",
       "loan_term                   0.009809         -0.020111       0.002121   \n",
       "cibil_score                 0.016323         -0.009998      -0.008485   \n",
       "residential_assets_value    0.020936          0.007376      -0.018196   \n",
       "commercial_assets_value     0.018595         -0.001531       0.002669   \n",
       "luxury_assets_value        -0.000862          0.002817       0.000482   \n",
       "bank_asset_value            0.010765          0.011163      -0.003196   \n",
       "loan_status                 0.017685         -0.018114      -0.013377   \n",
       "education_ranking          -0.013999         -0.023303       0.023343   \n",
       "employment_type_Business   -0.024301          0.019780       0.775594   \n",
       "employment_type_Freelancer -0.007113         -0.002429       0.371829   \n",
       "employment_type_Salaried    0.028332         -0.017627      -1.000000   \n",
       "\n",
       "                            income_annum  loan_amount  loan_term  cibil_score  \\\n",
       "loan_id                         0.012592     0.008170   0.009809     0.016323   \n",
       "no_of_dependents                0.007266    -0.003366  -0.020111    -0.009998   \n",
       "self_employed                  -0.005740    -0.008136   0.002121    -0.008485   \n",
       "income_annum                    1.000000     0.927470   0.011488    -0.023034   \n",
       "loan_amount                     0.927470     1.000000   0.008437    -0.017035   \n",
       "loan_term                       0.011488     0.008437   1.000000     0.007810   \n",
       "cibil_score                    -0.023034    -0.017035   0.007810     1.000000   \n",
       "residential_assets_value        0.636841     0.594596   0.008016    -0.019947   \n",
       "commercial_assets_value         0.640328     0.603188  -0.005478    -0.003769   \n",
       "luxury_assets_value             0.929145     0.860914   0.012490    -0.028618   \n",
       "bank_asset_value                0.851093     0.788122   0.017177    -0.015478   \n",
       "loan_status                    -0.015189     0.016150  -0.113036     0.770518   \n",
       "education_ranking               0.002351    -0.001508   0.016326     0.013263   \n",
       "employment_type_Business        0.002461     0.000288  -0.007785    -0.018068   \n",
       "employment_type_Freelancer     -0.012300    -0.012730   0.014656     0.013737   \n",
       "employment_type_Salaried        0.005740     0.008136  -0.002121     0.008485   \n",
       "\n",
       "                            residential_assets_value  commercial_assets_value  \\\n",
       "loan_id                                     0.020936                 0.018595   \n",
       "no_of_dependents                            0.007376                -0.001531   \n",
       "self_employed                              -0.018196                 0.002669   \n",
       "income_annum                                0.636841                 0.640328   \n",
       "loan_amount                                 0.594596                 0.603188   \n",
       "loan_term                                   0.008016                -0.005478   \n",
       "cibil_score                                -0.019947                -0.003769   \n",
       "residential_assets_value                    1.000000                 0.414786   \n",
       "commercial_assets_value                     0.414786                 1.000000   \n",
       "luxury_assets_value                         0.590932                 0.591128   \n",
       "bank_asset_value                            0.527418                 0.548576   \n",
       "loan_status                                -0.014367                 0.008246   \n",
       "education_ranking                           0.004839                 0.004140   \n",
       "employment_type_Business                   -0.011169                 0.010321   \n",
       "employment_type_Freelancer                 -0.011094                -0.011141   \n",
       "employment_type_Salaried                    0.018196                -0.002669   \n",
       "\n",
       "                            luxury_assets_value  bank_asset_value  \\\n",
       "loan_id                               -0.000862          0.010765   \n",
       "no_of_dependents                       0.002817          0.011163   \n",
       "self_employed                          0.000482         -0.003196   \n",
       "income_annum                           0.929145          0.851093   \n",
       "loan_amount                            0.860914          0.788122   \n",
       "loan_term                              0.012490          0.017177   \n",
       "cibil_score                           -0.028618         -0.015478   \n",
       "residential_assets_value               0.590932          0.527418   \n",
       "commercial_assets_value                0.591128          0.548576   \n",
       "luxury_assets_value                    1.000000          0.788517   \n",
       "bank_asset_value                       0.788517          1.000000   \n",
       "loan_status                           -0.015465         -0.006778   \n",
       "education_ranking                      0.000166          0.004860   \n",
       "employment_type_Business               0.007702         -0.001274   \n",
       "employment_type_Freelancer            -0.010597         -0.002961   \n",
       "employment_type_Salaried              -0.000482          0.003196   \n",
       "\n",
       "                            loan_status  education_ranking  \\\n",
       "loan_id                        0.017685          -0.013999   \n",
       "no_of_dependents              -0.018114          -0.023303   \n",
       "self_employed                 -0.013377           0.023343   \n",
       "income_annum                  -0.015189           0.002351   \n",
       "loan_amount                    0.016150          -0.001508   \n",
       "loan_term                     -0.113036           0.016326   \n",
       "cibil_score                    0.770518           0.013263   \n",
       "residential_assets_value      -0.014367           0.004839   \n",
       "commercial_assets_value        0.008246           0.004140   \n",
       "luxury_assets_value           -0.015465           0.000166   \n",
       "bank_asset_value              -0.006778           0.004860   \n",
       "loan_status                    1.000000           0.012237   \n",
       "education_ranking              0.012237           1.000000   \n",
       "employment_type_Business      -0.020107          -0.330511   \n",
       "employment_type_Freelancer     0.009338           0.521361   \n",
       "employment_type_Salaried       0.013377          -0.023343   \n",
       "\n",
       "                            employment_type_Business  \\\n",
       "loan_id                                    -0.024301   \n",
       "no_of_dependents                            0.019780   \n",
       "self_employed                               0.775594   \n",
       "income_annum                                0.002461   \n",
       "loan_amount                                 0.000288   \n",
       "loan_term                                  -0.007785   \n",
       "cibil_score                                -0.018068   \n",
       "residential_assets_value                   -0.011169   \n",
       "commercial_assets_value                     0.010321   \n",
       "luxury_assets_value                         0.007702   \n",
       "bank_asset_value                           -0.001274   \n",
       "loan_status                                -0.020107   \n",
       "education_ranking                          -0.330511   \n",
       "employment_type_Business                    1.000000   \n",
       "employment_type_Freelancer                 -0.297585   \n",
       "employment_type_Salaried                   -0.775594   \n",
       "\n",
       "                            employment_type_Freelancer  \\\n",
       "loan_id                                      -0.007113   \n",
       "no_of_dependents                             -0.002429   \n",
       "self_employed                                 0.371829   \n",
       "income_annum                                 -0.012300   \n",
       "loan_amount                                  -0.012730   \n",
       "loan_term                                     0.014656   \n",
       "cibil_score                                   0.013737   \n",
       "residential_assets_value                     -0.011094   \n",
       "commercial_assets_value                      -0.011141   \n",
       "luxury_assets_value                          -0.010597   \n",
       "bank_asset_value                             -0.002961   \n",
       "loan_status                                   0.009338   \n",
       "education_ranking                             0.521361   \n",
       "employment_type_Business                     -0.297585   \n",
       "employment_type_Freelancer                    1.000000   \n",
       "employment_type_Salaried                     -0.371829   \n",
       "\n",
       "                            employment_type_Salaried  \n",
       "loan_id                                     0.028332  \n",
       "no_of_dependents                           -0.017627  \n",
       "self_employed                              -1.000000  \n",
       "income_annum                                0.005740  \n",
       "loan_amount                                 0.008136  \n",
       "loan_term                                  -0.002121  \n",
       "cibil_score                                 0.008485  \n",
       "residential_assets_value                    0.018196  \n",
       "commercial_assets_value                    -0.002669  \n",
       "luxury_assets_value                        -0.000482  \n",
       "bank_asset_value                            0.003196  \n",
       "loan_status                                 0.013377  \n",
       "education_ranking                          -0.023343  \n",
       "employment_type_Business                   -0.775594  \n",
       "employment_type_Freelancer                 -0.371829  \n",
       "employment_type_Salaried                    1.000000  "
      ]
     },
     "execution_count": 20,
     "metadata": {},
     "output_type": "execute_result"
    }
   ],
   "source": [
    "data.corr()"
   ]
  },
  {
   "cell_type": "code",
   "execution_count": 21,
   "id": "67b26ff7",
   "metadata": {},
   "outputs": [
    {
     "data": {
      "image/png": "[encoded data removed]",
      "text/plain": [
       "<Figure size 432x288 with 1 Axes>"
      ]
     },
     "metadata": {
      "needs_background": "light"
     },
     "output_type": "display_data"
    }
   ],
   "source": [
    "plt.hist(data.income_annum);"
   ]
  },
  {
   "cell_type": "code",
   "execution_count": 22,
   "id": "0b069da5",
   "metadata": {},
   "outputs": [
    {
     "data": {
      "text/plain": [
       "count    4.269000e+03\n",
       "mean     5.059124e+06\n",
       "std      2.806840e+06\n",
       "min      2.000000e+05\n",
       "25%      2.700000e+06\n",
       "50%      5.100000e+06\n",
       "75%      7.500000e+06\n",
       "max      9.900000e+06\n",
       "Name: income_annum, dtype: float64"
      ]
     },
     "execution_count": 22,
     "metadata": {},
     "output_type": "execute_result"
    }
   ],
   "source": [
    "data.income_annum.describe()"
   ]
  },
  {
   "cell_type": "code",
   "execution_count": 23,
   "id": "320e1e0d",
   "metadata": {},
   "outputs": [
    {
     "data": {
      "image/png": "[encoded data removed]",
      "text/plain": [
       "<Figure size 432x288 with 1 Axes>"
      ]
     },
     "metadata": {
      "needs_background": "light"
     },
     "output_type": "display_data"
    }
   ],
   "source": [
    "plt.hist(data.loan_amount);"
   ]
  },
  {
   "cell_type": "code",
   "execution_count": 24,
   "id": "203cf42c",
   "metadata": {},
   "outputs": [
    {
     "data": {
      "image/png": "[encoded data removed]",
      "text/plain": [
       "<Figure size 720x432 with 1 Axes>"
      ]
     },
     "metadata": {
      "needs_background": "light"
     },
     "output_type": "display_data"
    }
   ],
   "source": [
    "num_bins = 10\n",
    "\n",
    "data['loan_range'] = pd.qcut(data['loan_amount'], q=num_bins, labels=False)\n",
    "\n",
    "mean_loan_approval = data.groupby('loan_range')['loan_status'].mean()\n",
    "\n",
    "plt.figure(figsize=(10, 6))\n",
    "mean_loan_approval.plot(kind='bar', color='skyblue')\n",
    "plt.title('Mean Loan Approval Status by Loan Range (Quantile Bins)')\n",
    "plt.xlabel('Income Range (Quantile Bins)')\n",
    "plt.ylabel('Mean Loan Approval Status')\n",
    "plt.xticks(rotation=45)\n",
    "plt.grid(axis='y', linestyle='--', alpha=0.7)\n",
    "plt.tight_layout()\n",
    "plt.show()\n"
   ]
  },
  {
   "cell_type": "code",
   "execution_count": 25,
   "id": "82342be3",
   "metadata": {
    "scrolled": true
   },
   "outputs": [
    {
     "data": {
      "text/plain": [
       "count    4.269000e+03\n",
       "mean     1.513345e+07\n",
       "std      9.043363e+06\n",
       "min      3.000000e+05\n",
       "25%      7.700000e+06\n",
       "50%      1.450000e+07\n",
       "75%      2.150000e+07\n",
       "max      3.950000e+07\n",
       "Name: loan_amount, dtype: float64"
      ]
     },
     "execution_count": 25,
     "metadata": {},
     "output_type": "execute_result"
    }
   ],
   "source": [
    "data.loan_amount.describe()"
   ]
  },
  {
   "cell_type": "code",
   "execution_count": 26,
   "id": "4569f8b6",
   "metadata": {},
   "outputs": [
    {
     "data": {
      "image/png": "[encoded data removed]",
      "text/plain": [
       "<Figure size 720x432 with 1 Axes>"
      ]
     },
     "metadata": {
      "needs_background": "light"
     },
     "output_type": "display_data"
    }
   ],
   "source": [
    "num_bins = 10\n",
    "\n",
    "data['income_range'] = pd.qcut(data['income_annum'], q=num_bins, labels=False)\n",
    "\n",
    "mean_loan_approval = data.groupby('income_range')['loan_status'].mean()\n",
    "\n",
    "plt.figure(figsize=(10, 6))\n",
    "mean_loan_approval.plot(kind='bar', color='skyblue')\n",
    "plt.title('Mean Loan Approval Status by Income Range (Quantile Bins)')\n",
    "plt.xlabel('Income Range (Quantile Bins)')\n",
    "plt.ylabel('Mean Loan Approval Status')\n",
    "plt.xticks(rotation=45)\n",
    "plt.grid(axis='y', linestyle='--', alpha=0.7)\n",
    "plt.tight_layout()\n",
    "plt.show()\n"
   ]
  },
  {
   "cell_type": "code",
   "execution_count": 27,
   "id": "7c6d51ea",
   "metadata": {},
   "outputs": [
    {
     "data": {
      "text/plain": [
       "count    4269.000000\n",
       "mean      599.936051\n",
       "std       172.430401\n",
       "min       300.000000\n",
       "25%       453.000000\n",
       "50%       600.000000\n",
       "75%       748.000000\n",
       "max       900.000000\n",
       "Name: cibil_score, dtype: float64"
      ]
     },
     "execution_count": 27,
     "metadata": {},
     "output_type": "execute_result"
    }
   ],
   "source": [
    "data.cibil_score.describe()"
   ]
  },
  {
   "cell_type": "code",
   "execution_count": 28,
   "id": "b1c1de40",
   "metadata": {},
   "outputs": [
    {
     "data": {
      "image/png": "[encoded data removed]",
      "text/plain": [
       "<Figure size 720x432 with 1 Axes>"
      ]
     },
     "metadata": {
      "needs_background": "light"
     },
     "output_type": "display_data"
    }
   ],
   "source": [
    "num_bins = 5\n",
    "\n",
    "data['cibil_range'] = pd.qcut(data['cibil_score'], q=num_bins, labels=False)\n",
    "\n",
    "mean_loan_approval = data.groupby('cibil_range')['loan_status'].mean()\n",
    "\n",
    "plt.figure(figsize=(10, 6))\n",
    "mean_loan_approval.plot(kind='bar', color='skyblue')\n",
    "plt.title('Mean Loan Approval Status by Cibil Range (Quantile Bins)')\n",
    "plt.xlabel('Income Range (Quantile Bins)')\n",
    "plt.ylabel('Mean Loan Approval Status')\n",
    "plt.xticks(rotation=45)\n",
    "plt.grid(axis='y', linestyle='--', alpha=0.7)\n",
    "plt.tight_layout()\n",
    "plt.show()"
   ]
  },
  {
   "cell_type": "code",
   "execution_count": 29,
   "id": "bc5f0fb7",
   "metadata": {},
   "outputs": [
    {
     "data": {
      "text/plain": [
       "cibil_range\n",
       "0    0.105140\n",
       "1    0.104094\n",
       "2    0.918605\n",
       "3    0.991745\n",
       "4    0.995294\n",
       "Name: loan_status, dtype: float64"
      ]
     },
     "execution_count": 29,
     "metadata": {},
     "output_type": "execute_result"
    }
   ],
   "source": [
    "data.groupby('cibil_range')['loan_status'].mean()"
   ]
  },
  {
   "cell_type": "code",
   "execution_count": 30,
   "id": "407c247a",
   "metadata": {},
   "outputs": [],
   "source": [
    "def Loan_approval_Prob(cibil_range):\n",
    "    if cibil_range < 2:\n",
    "        return 0\n",
    "    else:\n",
    "        return 1"
   ]
  },
  {
   "cell_type": "code",
   "execution_count": 31,
   "id": "e4d199a1",
   "metadata": {},
   "outputs": [],
   "source": [
    "data['Loan_approval_Pred_based_Cibil'] = data['cibil_range'].apply(Loan_approval_Prob)\n"
   ]
  },
  {
   "cell_type": "code",
   "execution_count": 33,
   "id": "6596fc08",
   "metadata": {},
   "outputs": [
    {
     "name": "stdout",
     "output_type": "stream",
     "text": [
      "Accuracy: 0.9390958069805575\n",
      "Precision: 0.9683346364347146\n",
      "Recall: 0.932605421686747\n"
     ]
    }
   ],
   "source": [
    "from sklearn.metrics import accuracy_score, precision_score, recall_score\n",
    "\n",
    "actual_loan_status = data['loan_status']\n",
    "predicted_loan_status = data['Loan_approval_Pred_based_Cibil']\n",
    "\n",
    "accuracy = accuracy_score(actual_loan_status, predicted_loan_status)\n",
    "\n",
    "precision = precision_score(actual_loan_status, predicted_loan_status)\n",
    "\n",
    "recall = recall_score(actual_loan_status, predicted_loan_status)\n",
    "\n",
    "print(\"Accuracy:\", accuracy)\n",
    "print(\"Precision:\", precision)\n",
    "print(\"Recall:\", recall)\n"
   ]
  },
  {
   "cell_type": "code",
   "execution_count": 34,
   "id": "c93c1948",
   "metadata": {},
   "outputs": [
    {
     "data": {
      "text/plain": [
       "1    2168\n",
       "Name: self_employed, dtype: int64"
      ]
     },
     "execution_count": 34,
     "metadata": {},
     "output_type": "execute_result"
    }
   ],
   "source": [
    "data[data.self_employed==1]['self_employed'].value_counts()"
   ]
  },
  {
   "cell_type": "code",
   "execution_count": 35,
   "id": "55816fc7",
   "metadata": {},
   "outputs": [
    {
     "data": {
      "text/plain": [
       "0    2101\n",
       "Name: self_employed, dtype: int64"
      ]
     },
     "execution_count": 35,
     "metadata": {},
     "output_type": "execute_result"
    }
   ],
   "source": [
    "data[data.self_employed==0]['self_employed'].value_counts()"
   ]
  },
  {
   "cell_type": "code",
   "execution_count": 36,
   "id": "006d748c",
   "metadata": {},
   "outputs": [],
   "source": [
    "data=data.drop('self_employed',axis=1)"
   ]
  },
  {
   "cell_type": "code",
   "execution_count": 37,
   "id": "53718557",
   "metadata": {},
   "outputs": [
    {
     "data": {
      "text/html": [
       "<div>\n",
       "<style scoped>\n",
       "    .dataframe tbody tr th:only-of-type {\n",
       "        vertical-align: middle;\n",
       "    }\n",
       "\n",
       "    .dataframe tbody tr th {\n",
       "        vertical-align: top;\n",
       "    }\n",
       "\n",
       "    .dataframe thead th {\n",
       "        text-align: right;\n",
       "    }\n",
       "</style>\n",
       "<table border=\"1\" class=\"dataframe\">\n",
       "  <thead>\n",
       "    <tr style=\"text-align: right;\">\n",
       "      <th></th>\n",
       "      <th>loan_id</th>\n",
       "      <th>no_of_dependents</th>\n",
       "      <th>income_annum</th>\n",
       "      <th>loan_amount</th>\n",
       "      <th>loan_term</th>\n",
       "      <th>cibil_score</th>\n",
       "      <th>residential_assets_value</th>\n",
       "      <th>commercial_assets_value</th>\n",
       "      <th>luxury_assets_value</th>\n",
       "      <th>bank_asset_value</th>\n",
       "      <th>loan_status</th>\n",
       "      <th>education_ranking</th>\n",
       "      <th>employment_type_Business</th>\n",
       "      <th>employment_type_Freelancer</th>\n",
       "      <th>employment_type_Salaried</th>\n",
       "      <th>loan_range</th>\n",
       "      <th>income_range</th>\n",
       "      <th>cibil_range</th>\n",
       "      <th>Loan_approval_Pred_based_Cibil</th>\n",
       "    </tr>\n",
       "  </thead>\n",
       "  <tbody>\n",
       "    <tr>\n",
       "      <th>0</th>\n",
       "      <td>1</td>\n",
       "      <td>2</td>\n",
       "      <td>9600000</td>\n",
       "      <td>29900000</td>\n",
       "      <td>12</td>\n",
       "      <td>778</td>\n",
       "      <td>2400000</td>\n",
       "      <td>17600000</td>\n",
       "      <td>22700000</td>\n",
       "      <td>8000000</td>\n",
       "      <td>1</td>\n",
       "      <td>3</td>\n",
       "      <td>0</td>\n",
       "      <td>0</td>\n",
       "      <td>1</td>\n",
       "      <td>9</td>\n",
       "      <td>9</td>\n",
       "      <td>3</td>\n",
       "      <td>1</td>\n",
       "    </tr>\n",
       "    <tr>\n",
       "      <th>1</th>\n",
       "      <td>2</td>\n",
       "      <td>0</td>\n",
       "      <td>4100000</td>\n",
       "      <td>12200000</td>\n",
       "      <td>8</td>\n",
       "      <td>417</td>\n",
       "      <td>2700000</td>\n",
       "      <td>2200000</td>\n",
       "      <td>8800000</td>\n",
       "      <td>3300000</td>\n",
       "      <td>0</td>\n",
       "      <td>3</td>\n",
       "      <td>0</td>\n",
       "      <td>0</td>\n",
       "      <td>1</td>\n",
       "      <td>4</td>\n",
       "      <td>3</td>\n",
       "      <td>0</td>\n",
       "      <td>0</td>\n",
       "    </tr>\n",
       "    <tr>\n",
       "      <th>2</th>\n",
       "      <td>3</td>\n",
       "      <td>3</td>\n",
       "      <td>9100000</td>\n",
       "      <td>29700000</td>\n",
       "      <td>20</td>\n",
       "      <td>506</td>\n",
       "      <td>7100000</td>\n",
       "      <td>4500000</td>\n",
       "      <td>33300000</td>\n",
       "      <td>12800000</td>\n",
       "      <td>0</td>\n",
       "      <td>2</td>\n",
       "      <td>0</td>\n",
       "      <td>0</td>\n",
       "      <td>1</td>\n",
       "      <td>9</td>\n",
       "      <td>9</td>\n",
       "      <td>1</td>\n",
       "      <td>0</td>\n",
       "    </tr>\n",
       "    <tr>\n",
       "      <th>3</th>\n",
       "      <td>4</td>\n",
       "      <td>3</td>\n",
       "      <td>8200000</td>\n",
       "      <td>30700000</td>\n",
       "      <td>8</td>\n",
       "      <td>467</td>\n",
       "      <td>18200000</td>\n",
       "      <td>3300000</td>\n",
       "      <td>23300000</td>\n",
       "      <td>7900000</td>\n",
       "      <td>0</td>\n",
       "      <td>2</td>\n",
       "      <td>0</td>\n",
       "      <td>0</td>\n",
       "      <td>1</td>\n",
       "      <td>9</td>\n",
       "      <td>8</td>\n",
       "      <td>1</td>\n",
       "      <td>0</td>\n",
       "    </tr>\n",
       "    <tr>\n",
       "      <th>4</th>\n",
       "      <td>5</td>\n",
       "      <td>5</td>\n",
       "      <td>9800000</td>\n",
       "      <td>24200000</td>\n",
       "      <td>20</td>\n",
       "      <td>382</td>\n",
       "      <td>12400000</td>\n",
       "      <td>8200000</td>\n",
       "      <td>29400000</td>\n",
       "      <td>5000000</td>\n",
       "      <td>0</td>\n",
       "      <td>4</td>\n",
       "      <td>0</td>\n",
       "      <td>0</td>\n",
       "      <td>1</td>\n",
       "      <td>8</td>\n",
       "      <td>9</td>\n",
       "      <td>0</td>\n",
       "      <td>0</td>\n",
       "    </tr>\n",
       "  </tbody>\n",
       "</table>\n",
       "</div>"
      ],
      "text/plain": [
       "   loan_id  no_of_dependents  income_annum  loan_amount  loan_term  \\\n",
       "0        1                 2       9600000     29900000         12   \n",
       "1        2                 0       4100000     12200000          8   \n",
       "2        3                 3       9100000     29700000         20   \n",
       "3        4                 3       8200000     30700000          8   \n",
       "4        5                 5       9800000     24200000         20   \n",
       "\n",
       "   cibil_score  residential_assets_value  commercial_assets_value  \\\n",
       "0          778                   2400000                 17600000   \n",
       "1          417                   2700000                  2200000   \n",
       "2          506                   7100000                  4500000   \n",
       "3          467                  18200000                  3300000   \n",
       "4          382                  12400000                  8200000   \n",
       "\n",
       "   luxury_assets_value  bank_asset_value  loan_status  education_ranking  \\\n",
       "0             22700000           8000000            1                  3   \n",
       "1              8800000           3300000            0                  3   \n",
       "2             33300000          12800000            0                  2   \n",
       "3             23300000           7900000            0                  2   \n",
       "4             29400000           5000000            0                  4   \n",
       "\n",
       "   employment_type_Business  employment_type_Freelancer  \\\n",
       "0                         0                           0   \n",
       "1                         0                           0   \n",
       "2                         0                           0   \n",
       "3                         0                           0   \n",
       "4                         0                           0   \n",
       "\n",
       "   employment_type_Salaried  loan_range  income_range  cibil_range  \\\n",
       "0                         1           9             9            3   \n",
       "1                         1           4             3            0   \n",
       "2                         1           9             9            1   \n",
       "3                         1           9             8            1   \n",
       "4                         1           8             9            0   \n",
       "\n",
       "   Loan_approval_Pred_based_Cibil  \n",
       "0                               1  \n",
       "1                               0  \n",
       "2                               0  \n",
       "3                               0  \n",
       "4                               0  "
      ]
     },
     "execution_count": 37,
     "metadata": {},
     "output_type": "execute_result"
    }
   ],
   "source": [
    "data.head()"
   ]
  },
  {
   "cell_type": "code",
   "execution_count": 38,
   "id": "deee220b",
   "metadata": {},
   "outputs": [],
   "source": [
    "####Features"
   ]
  },
  {
   "cell_type": "code",
   "execution_count": 39,
   "id": "a2bafd33",
   "metadata": {},
   "outputs": [],
   "source": [
    "data['Loan_by_Income']=data['loan_amount']/data['income_annum']\n",
    "\n",
    "data['Income_perDependent']=data['income_annum']/(data['no_of_dependents']+1)\n",
    "data['Loan_by_Income_perDependent']=data['loan_amount']/data['Income_perDependent']\n",
    "\n",
    "data['Loan_Per_Year']=data['loan_amount']/data['loan_term']\n",
    "data['Loan_Per_Year_by_income_annum']=data['Loan_Per_Year']/data['income_annum']\n",
    "data['Loan_Per_Year_by_Income_perDependent']=data['Loan_Per_Year']/data['Loan_by_Income_perDependent']\n",
    "\n",
    "\n",
    "data['Total_Assets']=data['residential_assets_value']+data['commercial_assets_value']+data['luxury_assets_value']+data['bank_asset_value']\n",
    "data['Real_Estate_Assests']=data['residential_assets_value']+data['commercial_assets_value']\n",
    "data['Loan_by_Assests']=data['loan_amount']/data['Total_Assets']\n",
    "# data['Loan_by_RealEstateAssests']=data['loan_amount']/data['Real_Estate_Assests']\n",
    "\n",
    "data['Total_Income_Loan_Duration']=data['income_annum']*data['loan_term']\n",
    "data['Loan_by_Total_income']=data['loan_amount']/(data['Total_Income_Loan_Duration'])\n",
    "data['Loan_by_Assets_Total_income']=data['loan_amount']/(data['Total_Income_Loan_Duration']+data['Total_Assets'])\n",
    "data['Loan_by_RealEstateAssets_Total_income']=data['loan_amount']/(data['Total_Income_Loan_Duration']+data['Real_Estate_Assests'])\n",
    "data['Loan_by_RealEstateAssets_BankAssets_Total_income']=data['loan_amount']/(data['Total_Income_Loan_Duration']+data['Real_Estate_Assests']+data['bank_asset_value'])\n",
    "\n",
    "data['Loan_by_TotalIncomeAsset_per_dependent']=data['loan_amount']*(data['no_of_dependents']+1)/(data['Total_Assets']+data['Total_Income_Loan_Duration'])\n",
    "\n",
    "\n",
    "data['Luxury_assets_by_Total_assets']=data['luxury_assets_value']/data['Total_Assets']\n",
    "data['Liquidity_Ratio']=data['bank_asset_value']/data['Total_Assets']\n",
    "\n"
   ]
  },
  {
   "cell_type": "code",
   "execution_count": 40,
   "id": "97f4444f",
   "metadata": {},
   "outputs": [],
   "source": [
    "data.to_csv('Data_2.csv')"
   ]
  },
  {
   "cell_type": "code",
   "execution_count": 42,
   "id": "7a8eac19",
   "metadata": {},
   "outputs": [
    {
     "name": "stdout",
     "output_type": "stream",
     "text": [
      "Cibil Range: 3\n",
      "Precision: 0.9917452830188679\n",
      "Recall: 1.0\n",
      "Accuracy: 0.9917452830188679\n",
      "Cibil Range: 0\n",
      "Precision: 0.0\n",
      "Recall: 0.0\n",
      "Accuracy: 0.8948598130841121\n",
      "Cibil Range: 1\n",
      "Precision: 0.0\n",
      "Recall: 0.0\n",
      "Accuracy: 0.895906432748538\n",
      "Cibil Range: 4\n",
      "Precision: 0.9952941176470588\n",
      "Recall: 1.0\n",
      "Accuracy: 0.9952941176470588\n",
      "Cibil Range: 2\n",
      "Precision: 0.9186046511627907\n",
      "Recall: 1.0\n",
      "Accuracy: 0.9186046511627907\n"
     ]
    },
    {
     "name": "stderr",
     "output_type": "stream",
     "text": [
      "/home/aditya_bendapudi/.conda/envs/aditya_bendapudi/lib/python3.7/site-packages/sklearn/metrics/_classification.py:1318: UndefinedMetricWarning: Precision is ill-defined and being set to 0.0 due to no predicted samples. Use `zero_division` parameter to control this behavior.\n",
      "  _warn_prf(average, modifier, msg_start, len(result))\n",
      "/home/aditya_bendapudi/.conda/envs/aditya_bendapudi/lib/python3.7/site-packages/sklearn/metrics/_classification.py:1318: UndefinedMetricWarning: Precision is ill-defined and being set to 0.0 due to no predicted samples. Use `zero_division` parameter to control this behavior.\n",
      "  _warn_prf(average, modifier, msg_start, len(result))\n"
     ]
    }
   ],
   "source": [
    "for i in data.cibil_range.unique():\n",
    "     \n",
    "        \n",
    "    print(\"Cibil Range:\", i)    \n",
    "    q=data[data.cibil_range==i]\n",
    "    \n",
    "    precision = precision_score(q['loan_status'], q['Loan_approval_Pred_based_Cibil'])\n",
    "    recall = recall_score(q['loan_status'], q['Loan_approval_Pred_based_Cibil'])\n",
    "    accuracy = accuracy_score(q['loan_status'], q['Loan_approval_Pred_based_Cibil'])\n",
    "\n",
    "    print(\"Precision:\", precision)\n",
    "    print(\"Recall:\", recall)\n",
    "    print(\"Accuracy:\", accuracy)\n"
   ]
  },
  {
   "cell_type": "code",
   "execution_count": null,
   "id": "8f544089",
   "metadata": {},
   "outputs": [],
   "source": []
  }
 ],
 "metadata": {
  "kernelspec": {
   "display_name": "Python 3",
   "language": "python",
   "name": "python3"
  },
  "language_info": {
   "codemirror_mode": {
    "name": "ipython",
    "version": 3
   },
   "file_extension": ".py",
   "mimetype": "text/x-python",
   "name": "python",
   "nbconvert_exporter": "python",
   "pygments_lexer": "ipython3",
   "version": "3.7.16"
  }
 },
 "nbformat": 4,
 "nbformat_minor": 5
}
